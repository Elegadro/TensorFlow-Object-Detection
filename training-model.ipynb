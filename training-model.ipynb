{
  "cells": [
    {
      "cell_type": "markdown",
      "metadata": {
        "id": "UbiT1mYdd5n-"
      },
      "source": [
        "**Başlamadan önce Çalışma Zaman Ayarlarından GPU seç**"
      ]
    },
    {
      "cell_type": "markdown",
      "metadata": {
        "id": "sppU3LmmeGwY"
      },
      "source": [
        "# Adım 1: Kurulum"
      ]
    },
    {
      "cell_type": "code",
      "execution_count": null,
      "metadata": {
        "colab": {
          "base_uri": "https://localhost:8080/"
        },
        "id": "pKw04ltGeKMx",
        "outputId": "268dab38-b13a-448c-e2fe-bc9e9f369dc6"
      },
      "outputs": [],
      "source": [
        "!git clone https://github.com/tensorflow/models.git"
      ]
    },
    {
      "cell_type": "code",
      "execution_count": null,
      "metadata": {
        "colab": {
          "base_uri": "https://localhost:8080/"
        },
        "id": "wY5eWn0TeOW9",
        "outputId": "a2a466e9-6ec6-46ab-adac-d57c36d7f3eb"
      },
      "outputs": [],
      "source": [
        "cd /content/models/research"
      ]
    },
    {
      "cell_type": "code",
      "execution_count": null,
      "metadata": {
        "id": "QyjPBhaIeeNC"
      },
      "outputs": [],
      "source": [
        "!protoc object_detection/protos/*.proto --python_out=."
      ]
    },
    {
      "cell_type": "code",
      "execution_count": null,
      "metadata": {
        "colab": {
          "base_uri": "https://localhost:8080/"
        },
        "id": "sR8tbqcWef2c",
        "outputId": "0a97bde9-f4ed-45e6-fa67-da3e558d9c15"
      },
      "outputs": [],
      "source": [
        "!git clone https://github.com/cocodataset/cocoapi.git"
      ]
    },
    {
      "cell_type": "code",
      "execution_count": null,
      "metadata": {
        "colab": {
          "base_uri": "https://localhost:8080/"
        },
        "id": "XhihJdJneiF0",
        "outputId": "4ecc1743-49ca-4046-b0a7-8fd4a474d9d9"
      },
      "outputs": [],
      "source": [
        "cd /content/models/research/cocoapi/PythonAPI"
      ]
    },
    {
      "cell_type": "code",
      "execution_count": null,
      "metadata": {
        "colab": {
          "base_uri": "https://localhost:8080/"
        },
        "id": "k6gDaHp9ejeM",
        "outputId": "ba7bc2cd-571d-40b3-f1aa-b043728fbdfc"
      },
      "outputs": [],
      "source": [
        "!make"
      ]
    },
    {
      "cell_type": "code",
      "execution_count": null,
      "metadata": {
        "id": "AWftJJEUekpB"
      },
      "outputs": [],
      "source": [
        "cp -r pycocotools /content/models/research"
      ]
    },
    {
      "cell_type": "code",
      "execution_count": null,
      "metadata": {
        "colab": {
          "base_uri": "https://localhost:8080/"
        },
        "id": "uR6Cqx2cenm7",
        "outputId": "630999e1-175e-49d5-adc0-de283297c552"
      },
      "outputs": [],
      "source": [
        "cd /content/models/research"
      ]
    },
    {
      "cell_type": "code",
      "execution_count": null,
      "metadata": {
        "id": "XOoVvOhDeoyI"
      },
      "outputs": [],
      "source": [
        "cp object_detection/packages/tf2/setup.py ."
      ]
    },
    {
      "cell_type": "code",
      "execution_count": null,
      "metadata": {
        "colab": {
          "base_uri": "https://localhost:8080/"
        },
        "id": "_Ue1_yHSeqAO",
        "outputId": "a1bfc3af-e42b-4780-ae3c-89c3c1e42845"
      },
      "outputs": [],
      "source": [
        "!python -m pip install --use-feature=2020-resolver ."
      ]
    },
    {
      "cell_type": "markdown",
      "metadata": {
        "id": "TjUIeFeMe4cN"
      },
      "source": [
        "# Adım 2: Kurulumu Test Et!"
      ]
    },
    {
      "cell_type": "markdown",
      "metadata": {
        "id": "YW_wSTpYe_0z"
      },
      "source": [
        "Aşağıdaki kod yürütüldüğünde en sonda aşağıdakine benzer bi çıktı elde etmen gerek\n",
        "```\n",
        "Ran 24 tests in 26.390s\n",
        "\n",
        "OK (skipped=1)\n",
        "```"
      ]
    },
    {
      "cell_type": "code",
      "execution_count": null,
      "metadata": {
        "colab": {
          "base_uri": "https://localhost:8080/"
        },
        "id": "6xdF0Xlde8fx",
        "outputId": "7aa295fe-96cd-43b7-a931-173942331d8a"
      },
      "outputs": [],
      "source": [
        "!python object_detection/builders/model_builder_tf2_test.py"
      ]
    },
    {
      "cell_type": "markdown",
      "metadata": {
        "id": "tKsIPZmcfVMF"
      },
      "source": [
        "# Adım 3: Çalışma Alanını Hazırlama"
      ]
    },
    {
      "cell_type": "code",
      "execution_count": null,
      "metadata": {
        "colab": {
          "base_uri": "https://localhost:8080/"
        },
        "id": "Nj5S1Yz_fYse",
        "outputId": "977e30ab-b3c4-4335-9f7d-b06a7b01a932"
      },
      "outputs": [],
      "source": [
        "cd /content"
      ]
    },
    {
      "cell_type": "code",
      "execution_count": null,
      "metadata": {
        "id": "tpvD3AHKfafa"
      },
      "outputs": [],
      "source": [
        "mkdir workspace"
      ]
    },
    {
      "cell_type": "code",
      "execution_count": null,
      "metadata": {
        "colab": {
          "base_uri": "https://localhost:8080/"
        },
        "id": "-7ylsyjffbTO",
        "outputId": "0ebd6267-b4be-412c-edff-d1b32064b83d"
      },
      "outputs": [],
      "source": [
        "cd /content/workspace"
      ]
    },
    {
      "cell_type": "code",
      "execution_count": null,
      "metadata": {
        "id": "wi1B0FAcfcN1"
      },
      "outputs": [],
      "source": [
        "mkdir training_demo"
      ]
    },
    {
      "cell_type": "code",
      "execution_count": null,
      "metadata": {
        "colab": {
          "base_uri": "https://localhost:8080/"
        },
        "id": "aTlobLnpfdGn",
        "outputId": "8c628f41-8a51-4c73-f6d5-025ed4a7bd97"
      },
      "outputs": [],
      "source": [
        "cd /content/workspace/training_demo"
      ]
    },
    {
      "cell_type": "code",
      "execution_count": null,
      "metadata": {
        "id": "UNyRwCK3feVX"
      },
      "outputs": [],
      "source": [
        "mkdir annotations"
      ]
    },
    {
      "cell_type": "code",
      "execution_count": null,
      "metadata": {
        "id": "6_AhmsbbffIr"
      },
      "outputs": [],
      "source": [
        "mkdir exported-models"
      ]
    },
    {
      "cell_type": "code",
      "execution_count": null,
      "metadata": {
        "id": "4owqd-WqfgKH"
      },
      "outputs": [],
      "source": [
        "mkdir images"
      ]
    },
    {
      "cell_type": "code",
      "execution_count": null,
      "metadata": {
        "id": "QHvEO-hOfhJz"
      },
      "outputs": [],
      "source": [
        "mkdir models"
      ]
    },
    {
      "cell_type": "code",
      "execution_count": null,
      "metadata": {
        "id": "VK6lQ4oWfh8h"
      },
      "outputs": [],
      "source": [
        "mkdir pre-trained-models"
      ]
    },
    {
      "cell_type": "code",
      "execution_count": null,
      "metadata": {
        "colab": {
          "base_uri": "https://localhost:8080/"
        },
        "id": "sB6vM8oUfi1x",
        "outputId": "cc344b0d-5279-4d8c-d06a-ab0ed99e98b4"
      },
      "outputs": [],
      "source": [
        "cd /content/workspace/training_demo/images"
      ]
    },
    {
      "cell_type": "code",
      "execution_count": null,
      "metadata": {
        "id": "lv0Kucu6fkDM"
      },
      "outputs": [],
      "source": [
        "mkdir test"
      ]
    },
    {
      "cell_type": "code",
      "execution_count": null,
      "metadata": {
        "id": "FbLmO2Dcflcx"
      },
      "outputs": [],
      "source": [
        "mkdir train"
      ]
    },
    {
      "cell_type": "code",
      "execution_count": null,
      "metadata": {
        "colab": {
          "base_uri": "https://localhost:8080/"
        },
        "id": "cpS3QOWrg4fd",
        "outputId": "5ae905db-201f-4481-eeed-725272dcc5e6"
      },
      "outputs": [],
      "source": [
        "cd /content"
      ]
    },
    {
      "cell_type": "code",
      "execution_count": null,
      "metadata": {
        "id": "u3jIJeaOg7l1"
      },
      "outputs": [],
      "source": [
        "mkdir scripts"
      ]
    },
    {
      "cell_type": "code",
      "execution_count": null,
      "metadata": {
        "colab": {
          "base_uri": "https://localhost:8080/"
        },
        "id": "HWq1URTBg87-",
        "outputId": "f4a40007-5479-46c9-cb1c-e701a547273c"
      },
      "outputs": [],
      "source": [
        "cd /content/scripts"
      ]
    },
    {
      "cell_type": "code",
      "execution_count": null,
      "metadata": {
        "id": "DE949r22g--3"
      },
      "outputs": [],
      "source": [
        "mkdir preprocessing"
      ]
    },
    {
      "cell_type": "code",
      "execution_count": null,
      "metadata": {
        "colab": {
          "base_uri": "https://localhost:8080/"
        },
        "id": "JWaXaFDDhCYb",
        "outputId": "5c7d0c3e-99c6-41f9-fd37-4fc8fe69cf84"
      },
      "outputs": [],
      "source": [
        "cd /content/scripts/preprocessing"
      ]
    },
    {
      "cell_type": "markdown",
      "metadata": {
        "id": "N-IE41DKfqMB"
      },
      "source": [
        "# Adım 4: Data Hazırlama"
      ]
    },
    {
      "cell_type": "markdown",
      "metadata": {
        "id": "L3mc1AOgfv_1"
      },
      "source": [
        "**4.1. İlk önce labelimg ile resimleri etiketleme işlemini yaparak `xml` formatına çevirmen gerek.**"
      ]
    },
    {
      "cell_type": "markdown",
      "metadata": {
        "id": "nrhfYv0rgHnl"
      },
      "source": [
        "**4.2. Çevirilen xml formatlarını ve resimleri `/content/workspace/training_demo/images/train` ve `/content/workspace/training_demo/images/test` dizinlerine atman gerek.**"
      ]
    },
    {
      "cell_type": "markdown",
      "metadata": {
        "id": "ODp5ije4gLMb"
      },
      "source": [
        "**4.3. `/content/workspace/training_demo/annotations` klasöründe `label_map.pbtxt` dosyası oluştur. İçerisinde şuna benzer bir yapı olmalı**\n",
        "```\n",
        "item {\n",
        "    id: 1\n",
        "    name: 'cat'\n",
        "}\n",
        "\n",
        "item {\n",
        "    id: 2\n",
        "    name: 'dog'\n",
        "}\n",
        "```"
      ]
    },
    {
      "cell_type": "markdown",
      "metadata": {
        "id": "VblhdTRahIXp"
      },
      "source": [
        "**4.4. [Buradan](https://tensorflow-object-detection-api-tutorial.readthedocs.io/en/latest/_downloads/da4babe668a8afb093cc7776d7e630f3/generate_tfrecord.py) `generate_tfrecord.py` dosyasını indirin ve `/content/scripts/preprocessing` klasörünün içine atın**"
      ]
    },
    {
      "cell_type": "code",
      "execution_count": null,
      "metadata": {
        "colab": {
          "base_uri": "https://localhost:8080/"
        },
        "id": "mKvh3k_IfuCU",
        "outputId": "f4cbd2dd-5d4b-40e6-9117-9e74c553a9a8"
      },
      "outputs": [],
      "source": [
        "!python generate_tfrecord.py -x /content/workspace/training_demo/images/train -l /content/workspace/training_demo/annotations/label_map.pbtxt -o /content/workspace/training_demo/annotations/train.record"
      ]
    },
    {
      "cell_type": "code",
      "execution_count": null,
      "metadata": {
        "colab": {
          "base_uri": "https://localhost:8080/"
        },
        "id": "kpdfo38uhFV7",
        "outputId": "212021e0-f4ba-414a-ef06-c3c0e47b7f3b"
      },
      "outputs": [],
      "source": [
        "!python generate_tfrecord.py -x /content/workspace/training_demo/images/test -l /content/workspace/training_demo/annotations/label_map.pbtxt -o /content/workspace/training_demo/annotations/test.record"
      ]
    },
    {
      "cell_type": "markdown",
      "metadata": {
        "id": "GQCvW-v398dY"
      },
      "source": [
        "NOT: Oluşturulan `.record` dosyaları 0 Byte olmamalıdır. Eğer 0 Byte ise eğitim düzgün çalışmayacaktır."
      ]
    },
    {
      "cell_type": "markdown",
      "metadata": {
        "id": "LKNMFAdQh7Db"
      },
      "source": [
        "# Adım 5: Model Yükleme"
      ]
    },
    {
      "cell_type": "code",
      "execution_count": null,
      "metadata": {
        "colab": {
          "base_uri": "https://localhost:8080/"
        },
        "id": "uzyPor5dh9tG",
        "outputId": "ecf3e8dd-9a6b-4c2a-e312-1ba57c9b9f43"
      },
      "outputs": [],
      "source": [
        "cd /content/workspace/training_demo/pre-trained-models"
      ]
    },
    {
      "cell_type": "code",
      "execution_count": null,
      "metadata": {
        "colab": {
          "base_uri": "https://localhost:8080/"
        },
        "id": "OxSu3wHih_gw",
        "outputId": "9b64b5ec-51a5-4d5c-d981-81d3c2dc6bd7"
      },
      "outputs": [],
      "source": [
        "!wget http://download.tensorflow.org/models/object_detection/tf2/20200711/ssd_resnet50_v1_fpn_640x640_coco17_tpu-8.tar.gz"
      ]
    },
    {
      "cell_type": "code",
      "execution_count": null,
      "metadata": {
        "colab": {
          "base_uri": "https://localhost:8080/"
        },
        "id": "JvYGpuQBiArV",
        "outputId": "b487fed6-295d-4036-b592-fa5b0a465071"
      },
      "outputs": [],
      "source": [
        "!tar -xvf ssd_resnet50_v1_fpn_640x640_coco17_tpu-8.tar.gz"
      ]
    },
    {
      "cell_type": "code",
      "execution_count": null,
      "metadata": {
        "colab": {
          "base_uri": "https://localhost:8080/"
        },
        "id": "vxcl_N2RiCvD",
        "outputId": "f8248f1d-1a16-4e24-ded0-232df88a506d"
      },
      "outputs": [],
      "source": [
        "cd /content/workspace/training_demo/models"
      ]
    },
    {
      "cell_type": "code",
      "execution_count": null,
      "metadata": {
        "id": "qOsoJfrZiIgZ"
      },
      "outputs": [],
      "source": [
        "mkdir my_ssd_resnet50_v1_fpn"
      ]
    },
    {
      "cell_type": "markdown",
      "metadata": {
        "id": "84XA8jtfiKqt"
      },
      "source": [
        "**5.1. İndirilen modelin içinde bulunan `/content/workspace/training_demo/pre-trained-models/ssd_resnet50_v1_fpn_640x640_coco17_tpu-8/pipeline.config` dosyasını, `/content/workspace/training_demo/models/my_ssd_resnet50_v1_fpn` de bulunan modelin içine kopyalayın**"
      ]
    },
    {
      "cell_type": "markdown",
      "metadata": {
        "id": "7Qk_NYrhigGe"
      },
      "source": [
        "**5.2. Kopyaladığınız `pipeline.config` dosyasını [buradan](https://tensorflow-object-detection-api-tutorial.readthedocs.io/en/latest/training.html#configure-the-training-pipeline) düzenleyin.**"
      ]
    },
    {
      "cell_type": "markdown",
      "metadata": {
        "id": "OfREydYUjnj3"
      },
      "source": [
        "# Adım 6: Son Ayarlar"
      ]
    },
    {
      "cell_type": "markdown",
      "metadata": {
        "id": "4HnUV_CZkDgf"
      },
      "source": [
        "**6.1. `/content/models/research/object_detection/model_main_tf2.py` klasöründe bulunan `model_main_tf2.py` dosyasınını `/content/workspace/training_demo` içine kopyalayın.**"
      ]
    },
    {
      "cell_type": "code",
      "execution_count": null,
      "metadata": {
        "colab": {
          "base_uri": "https://localhost:8080/"
        },
        "id": "faAa1gnCjqF5",
        "outputId": "cd055243-72cb-4b67-b75e-841daf8e046a"
      },
      "outputs": [],
      "source": [
        "!pip uninstall opencv-python"
      ]
    },
    {
      "cell_type": "code",
      "execution_count": null,
      "metadata": {
        "colab": {
          "base_uri": "https://localhost:8080/"
        },
        "id": "99eFit8tj5sJ",
        "outputId": "fdffb12c-85ae-4f5e-b649-fb7bbc429172"
      },
      "outputs": [],
      "source": [
        "!pip install opencv-python"
      ]
    },
    {
      "cell_type": "code",
      "execution_count": null,
      "metadata": {
        "colab": {
          "base_uri": "https://localhost:8080/"
        },
        "id": "WPjDNB2TkuaH",
        "outputId": "595de610-def9-4577-a7ad-1f273818fd0c"
      },
      "outputs": [],
      "source": [
        "cd /content/workspace/training_demo"
      ]
    },
    {
      "cell_type": "markdown",
      "metadata": {
        "id": "_f86z-LwkhYb"
      },
      "source": [
        "# Adım 7: Eğitim"
      ]
    },
    {
      "cell_type": "markdown",
      "metadata": {
        "id": "d6y6nrRckmSQ"
      },
      "source": [
        "**Eğitim uzun sürebilir. Sadece bekle!**"
      ]
    },
    {
      "cell_type": "code",
      "execution_count": null,
      "metadata": {
        "colab": {
          "base_uri": "https://localhost:8080/"
        },
        "id": "nW7nGRtlkjWG",
        "outputId": "9678b7e3-d91a-47ca-81f1-621a1cecd900"
      },
      "outputs": [],
      "source": [
        "!python model_main_tf2.py --model_dir=models/my_ssd_resnet50_v1_fpn --pipeline_config_path=models/my_ssd_resnet50_v1_fpn/pipeline.config"
      ]
    },
    {
      "cell_type": "markdown",
      "metadata": {
        "id": "RumxeAV81uGM"
      },
      "source": [
        "# Adım 8: Modeli Kaydetme"
      ]
    },
    {
      "cell_type": "markdown",
      "metadata": {
        "id": "UfIwQlSX1926"
      },
      "source": [
        "**8.1. `/content/models/research/object_detection/exporter_main_v2.py` klasöründe bulunan `exporter_main_v2.py` dosyasını `/content/workspace/training_demo` içine kopyalayın**"
      ]
    },
    {
      "cell_type": "code",
      "execution_count": null,
      "metadata": {
        "colab": {
          "base_uri": "https://localhost:8080/"
        },
        "id": "07UjKyja1yS4",
        "outputId": "773c14cb-a49b-4363-806a-bed3b1e44040"
      },
      "outputs": [],
      "source": [
        "!python exporter_main_v2.py --input_type image_tensor --pipeline_config_path /content/workspace/training_demo/models/my_ssd_resnet50_v1_fpn/pipeline.config --trained_checkpoint_dir /content/workspace/training_demo/models/my_ssd_resnet50_v1_fpn --output_directory /content/workspace/training_demo/exported-models/my_model"
      ]
    },
    {
      "cell_type": "markdown",
      "metadata": {
        "id": "yvdC8pXx2cu2"
      },
      "source": [
        "# Adım 9: Modeli Test Etme"
      ]
    },
    {
      "cell_type": "code",
      "execution_count": null,
      "metadata": {
        "colab": {
          "base_uri": "https://localhost:8080/",
          "height": 450
        },
        "id": "drUPuSqU2gAT",
        "outputId": "485e4d89-d502-4262-fe9b-a276c072d1ed"
      },
      "outputs": [],
      "source": [
        "import os\n",
        "os.environ[\"TF_CPP_MIN_LOG_LEVEL\"] = \"2\"\n",
        "#import pathlib\n",
        "import tensorflow as tf\n",
        "import cv2\n",
        "#import argparse\n",
        "\n",
        "gpus = tf.config.experimental.list_physical_devices(\"GPU\")\n",
        "for gpu in gpus:\n",
        "    tf.config.experimental.set_memory_growth(gpu, True)\n",
        "\n",
        "#IMG_NAME = \"drawing(76)\"\n",
        "\n",
        "IMAGE_PATHS = \"./content/workspace/training_demo/images/test/drawing(76).png\"\n",
        "\n",
        "PATH_TO_MODEL_DIR = \"./content/workspace/training_demo/exported-models/my_model\"\n",
        "\n",
        "PATH_TO_LABELS = \"./content/workspace/training_demo/annotations/label_map.pbtxt\"\n",
        "\n",
        "#MIN_CONF_THRESH = float(0.60)\n",
        "\n",
        "import time\n",
        "from object_detection.utils import label_map_util\n",
        "from object_detection.utils import visualization_utils as viz_utils\n",
        "\n",
        "PATH_TO_SAVED_MODEL = \"./content/workspace/training_demo/exported-models/my_model/saved_model\"\n",
        "\n",
        "print(\"Loading model...\", end=\"\")\n",
        "start_time = time.time()\n",
        "\n",
        "detect_fn = tf.saved_model.load(PATH_TO_SAVED_MODEL)\n",
        "\n",
        "end_time = time.time()\n",
        "elapsed_time = end_time - start_time\n",
        "print(f\"Done! Took {elapsed_time} seconds\")\n",
        "\n",
        "category_index = label_map_util.create_category_index_from_labelmap(PATH_TO_LABELS,\n",
        "                                                                    use_display_name=True)\n",
        "\n",
        "import numpy as np\n",
        "from PIL import Image\n",
        "#import matplotlib.pyplot as plt\n",
        "import warnings\n",
        "warnings.filterwarnings(\"ignore\")\n",
        "\n",
        "def load_iamge_into_numpy_array(path):\n",
        "    return np.array(Image.open(path))\n",
        "\n",
        "print(f\"Running inference for {IMAGE_PATHS}...\", end=\"\")\n",
        "\n",
        "image = cv2.imread(IMAGE_PATHS)\n",
        "image_rgb = cv2.cvtColor(image, cv2.COLOR_BGR2RGB)\n",
        "image_expanded = np.expand_dims(image_rgb, axis=0)\n",
        "\n",
        "input_tensor = tf.convert_to_tensor(image)\n",
        "input_tensor = input_tensor[tf.newaxis, ...]\n",
        "detections = detect_fn(input_tensor)\n",
        "\n",
        "num_detections = int(detections.pop(\"num_detections\"))\n",
        "detections = {key: value[0, :num_detections ].numpy()\n",
        "            for key, value in detections.items()}\n",
        "detections[\"num_detections\"] = num_detections\n",
        "\n",
        "detections[\"detection_classes\"] = detections[\"detection_classes\"].astype(np.int64)\n",
        "\n",
        "image_with_detections = image.copy()\n",
        "\n",
        "viz_utils.visualize_boxes_and_labels_on_image_array(\n",
        "    image_with_detections,\n",
        "    detections['detection_boxes'],\n",
        "    detections['detection_classes'],\n",
        "    detections['detection_scores'],\n",
        "    category_index,\n",
        "    use_normalized_coordinates=True,\n",
        "    max_boxes_to_draw=200,\n",
        "    min_score_thresh=0.5,\n",
        "    agnostic_mode=False\n",
        ")\n",
        "\n",
        "print(\"Done\")\n",
        "cv2.imshow(\"Output\", image_with_detections)\n",
        "cv2.waitKey(0)"
      ]
    },
    {
      "cell_type": "markdown",
      "metadata": {
        "id": "Po5FyzR0t00M"
      },
      "source": [
        "# Adım 10: Modeli Bilgisayara İndirme"
      ]
    },
    {
      "cell_type": "code",
      "execution_count": null,
      "metadata": {
        "colab": {
          "base_uri": "https://localhost:8080/"
        },
        "id": "jcCfLVGGt4HF",
        "outputId": "d9d61654-3920-460f-95f4-7fc3f2125371"
      },
      "outputs": [],
      "source": [
        "!zip -r /content/annotations.zip /content/workspace/training_demo/annotations"
      ]
    },
    {
      "cell_type": "code",
      "execution_count": null,
      "metadata": {
        "colab": {
          "base_uri": "https://localhost:8080/"
        },
        "id": "OgxETSN3L859",
        "outputId": "0ff1e7d9-b05b-41b3-ed7d-aa82c94fc505"
      },
      "outputs": [],
      "source": [
        "!zip -r /content/exported-models.zip /content/workspace/training_demo/exported-models"
      ]
    },
    {
      "cell_type": "code",
      "execution_count": null,
      "metadata": {
        "colab": {
          "base_uri": "https://localhost:8080/",
          "height": 17
        },
        "id": "xnAHZ9eAuSh-",
        "outputId": "92cd564a-a5c8-4946-b966-beb371f90a47"
      },
      "outputs": [],
      "source": [
        "from google.colab import files\n",
        "files.download(\"/content/annotations.zip\")\n",
        "files.download(\"/content/exported-models.zip\")\n"
      ]
    }
  ],
  "metadata": {
    "accelerator": "GPU",
    "colab": {
      "collapsed_sections": [
        "sppU3LmmeGwY",
        "TjUIeFeMe4cN",
        "tKsIPZmcfVMF",
        "N-IE41DKfqMB",
        "LKNMFAdQh7Db",
        "OfREydYUjnj3",
        "_f86z-LwkhYb",
        "RumxeAV81uGM",
        "yvdC8pXx2cu2"
      ],
      "name": "TFOD.ipynb",
      "provenance": []
    },
    "kernelspec": {
      "display_name": "Python 3",
      "name": "python3"
    },
    "language_info": {
      "name": "python"
    }
  },
  "nbformat": 4,
  "nbformat_minor": 0
}
